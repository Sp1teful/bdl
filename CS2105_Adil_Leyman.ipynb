{
 "cells": [
  {
   "cell_type": "markdown",
   "id": "e6c6d8fd-14bf-4e9f-a0f4-82dc799874c9",
   "metadata": {},
   "source": [
    "# Big Data in Law Enforcement\n"
   ]
  },
  {
   "cell_type": "markdown",
   "id": "26494da2-cd50-4c89-9079-3143774b3a7c",
   "metadata": {},
   "source": [
    "## Introduction"
   ]
  },
  {
   "cell_type": "markdown",
   "id": "937dcc68-8fcf-4054-9f17-801c8846e2a6",
   "metadata": {},
   "source": [
    "**Objectives**\n",
    "- List of popular \n",
    "languages for Data Scienc\n",
    "- Commonly used libraries used by Data Scientist\n",
    "- Few examples of evaluating arithmetic expressions in Pythone"
   ]
  },
  {
   "cell_type": "markdown",
   "id": "9ff79138-509b-41ed-97ca-e522915701dd",
   "metadata": {},
   "source": [
    "Big Data refers to the collection and analysis of vast amounts of data to extract valuable insights and patterns, often requiring advanced tools and techniques to process and interpret the information. Cybersecurity involves the protection of digital systems and networks from unauthorized access, data breaches, and cyberattacks, aiming to safeguard sensitive information and maintain the integrity of digital infrastructure."
   ]
  },
  {
   "cell_type": "markdown",
   "id": "9d2e227d-19cc-4702-9ab3-100eb51d8fde",
   "metadata": {},
   "source": [
    "*Some of the popular languages that Data Scientists use are:*"
   ]
  },
  {
   "cell_type": "markdown",
   "id": "0586fb53-3380-4731-8cf3-143d8939d926",
   "metadata": {},
   "source": [
    "1. SQL\n",
    "2. Python\n",
    "3. Java"
   ]
  },
  {
   "cell_type": "markdown",
   "id": "1c3067b4-d302-4a29-9457-aee9e63ba29e",
   "metadata": {},
   "source": [
    "*Some of the commonly used libraries used by Data Scientist include:*"
   ]
  },
  {
   "cell_type": "markdown",
   "id": "353ede59-5db2-46d2-b8f8-7fa04596c24e",
   "metadata": {},
   "source": [
    "- NumPy \n",
    "- Pandas\n",
    "- Matplotlib"
   ]
  },
  {
   "cell_type": "markdown",
   "id": "6a9ee159-3b03-477a-b276-fb45beead6be",
   "metadata": {},
   "source": [
    "|Data Science Tools|\n",
    "|----------|\n",
    "|Jupyter Notebook|\n",
    "|RStudio|\n",
    "|Apache Zeppelin|"
   ]
  },
  {
   "cell_type": "markdown",
   "id": "0f1e5ef4-5d11-4201-8e03-714d17f18e51",
   "metadata": {},
   "source": [
    "### **Below are a few examples of evaluating arithmetic expressions in Python**"
   ]
  },
  {
   "cell_type": "markdown",
   "id": "944f92ba-6f24-4a37-b757-d1334633cc83",
   "metadata": {},
   "source": [
    "*This is a simple arithmetic expression*"
   ]
  },
  {
   "cell_type": "code",
   "execution_count": 3,
   "id": "c8fadf1f-5c24-4c68-9791-8395d48ed5eb",
   "metadata": {},
   "outputs": [
    {
     "data": {
      "text/plain": [
       "33"
      ]
     },
     "execution_count": 3,
     "metadata": {},
     "output_type": "execute_result"
    }
   ],
   "source": [
    "(4*6)+9"
   ]
  },
  {
   "cell_type": "markdown",
   "id": "cbc36f23-a115-412d-81a8-f5b2fcafdaf5",
   "metadata": {},
   "source": [
    "*This will convert 300 minutes to hours by dividing by 60*"
   ]
  },
  {
   "cell_type": "code",
   "execution_count": 5,
   "id": "d1b6f416-2978-41da-a60b-780cbb392a4d",
   "metadata": {},
   "outputs": [
    {
     "data": {
      "text/plain": [
       "5.0"
      ]
     },
     "execution_count": 5,
     "metadata": {},
     "output_type": "execute_result"
    }
   ],
   "source": [
    "300/60"
   ]
  },
  {
   "cell_type": "markdown",
   "id": "206d679c-b40b-47b6-b165-788ce83fbb92",
   "metadata": {},
   "source": [
    "## **Author**\n",
    "Adil Leyman"
   ]
  },
  {
   "cell_type": "code",
   "execution_count": null,
   "id": "f3e05cee-fd03-485e-b321-97941fc3a52e",
   "metadata": {},
   "outputs": [],
   "source": []
  }
 ],
 "metadata": {
  "kernelspec": {
   "display_name": "Python 3 (ipykernel)",
   "language": "python",
   "name": "python3"
  },
  "language_info": {
   "codemirror_mode": {
    "name": "ipython",
    "version": 3
   },
   "file_extension": ".py",
   "mimetype": "text/x-python",
   "name": "python",
   "nbconvert_exporter": "python",
   "pygments_lexer": "ipython3",
   "version": "3.12.0"
  }
 },
 "nbformat": 4,
 "nbformat_minor": 5
}
